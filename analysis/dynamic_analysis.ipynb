{
 "cells": [
  {
   "cell_type": "code",
   "execution_count": null,
   "metadata": {},
   "outputs": [],
   "source": [
    "# Imports\n",
    "import yfinance as yf\n",
    "import datetime as dt\n",
    "import pandas as pd\n",
    "import requests\n",
    "import time\n",
    "import io\n",
    "\n",
    "# Read data from URL containing NASDAQ listings\n",
    "url = \"https://pkgstore.datahub.io/core/nasdaq-listings/nasdaq-listed_csv/data/7665719fb51081ba0bd834fde71ce822/nasdaq-listed_csv.csv\"\n",
    "data = requests.get(url).content\n",
    "df = pd.read_csv(io.StringIO(data.decode(\"utf-8\")))\n",
    "df.head()"
   ]
  },
  {
   "cell_type": "code",
   "execution_count": null,
   "metadata": {},
   "outputs": [],
   "source": [
    "symbols = df[\"Symbol\"].to_list()"
   ]
  },
  {
   "cell_type": "code",
   "execution_count": null,
   "metadata": {},
   "outputs": [],
   "source": [
    "stock_id = input(\"Enter Stock ID:\")\n",
    "stock_id = stock_id.upper()\n",
    "\n",
    "if stock_id in symbols:\n",
    "    df_stock = yf.download(stock_id, start=\"1950-01-01\", period=\"1d\")\n",
    "    print(df_stock)\n",
    "else:\n",
    "    print(\"Incorrect Stock Symbol. Please Enter Valid Symbols\")"
   ]
  },
  {
   "cell_type": "code",
   "execution_count": null,
   "metadata": {},
   "outputs": [],
   "source": [
    "df_stock.drop(\"Adj Close\", axis=\"columns\", inplace=True)\n",
    "df_stock.head()"
   ]
  },
  {
   "cell_type": "code",
   "execution_count": null,
   "metadata": {},
   "outputs": [],
   "source": [
    "# Reset index makes sure the dataframe has indexing of its own and converts the date index to a column\n",
    "df_stock.reset_index(inplace=True)\n",
    "df_stock.head()"
   ]
  },
  {
   "cell_type": "code",
   "execution_count": null,
   "metadata": {},
   "outputs": [],
   "source": [
    "# Convert the date to a datetime object (gets converted to a specialised type of datetime object)\n",
    "df_stock[\"Date\"] = pd.to_datetime(df_stock[\"Date\"])\n",
    "df_stock.Date.dtype"
   ]
  },
  {
   "cell_type": "code",
   "execution_count": null,
   "metadata": {},
   "outputs": [],
   "source": [
    "# Convert date to epoch datetime format\n",
    "df_stock[\"Date\"] = (df_stock[\"Date\"] - dt.datetime(1970, 1, 1)).dt.total_seconds()\n",
    "df_stock.head()"
   ]
  },
  {
   "cell_type": "code",
   "execution_count": null,
   "metadata": {},
   "outputs": [],
   "source": [
    "df_stock.Date.dtype"
   ]
  },
  {
   "cell_type": "code",
   "execution_count": null,
   "metadata": {},
   "outputs": [],
   "source": [
    "# Format for plotting requires specific size for date so multiply by 1000\n",
    "df_stock[\"Date\"] = df_stock[\"Date\"] * 1000\n",
    "df_stock.head()"
   ]
  },
  {
   "cell_type": "code",
   "execution_count": null,
   "metadata": {},
   "outputs": [],
   "source": [
    "# Convert to json format and make sure its converted as json with arrays thus orient = values\n",
    "df_stock.to_json(\"data/\" + stock_id + \"_mod.json\", orient=\"values\")"
   ]
  }
 ],
 "metadata": {
  "kernelspec": {
   "display_name": "Python 3",
   "language": "python",
   "name": "python3"
  },
  "language_info": {
   "codemirror_mode": {
    "name": "ipython",
    "version": 3
   },
   "file_extension": ".py",
   "mimetype": "text/x-python",
   "name": "python",
   "nbconvert_exporter": "python",
   "pygments_lexer": "ipython3",
   "version": "3.8.5"
  }
 },
 "nbformat": 4,
 "nbformat_minor": 4
}
